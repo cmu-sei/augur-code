{
 "cells": [
  {
   "cell_type": "code",
   "execution_count": 60,
   "metadata": {},
   "outputs": [
    {
     "data": {
      "text/plain": [
       "{'mean': 0.6617641349461625, 'sd': 0.2693356637126346}"
      ]
     },
     "execution_count": 60,
     "metadata": {},
     "output_type": "execute_result"
    }
   ],
   "source": [
    "from statsmodels.tsa.arima.model import ARIMA\n",
    "import numpy as np\n",
    "\n",
    "# historical data\n",
    "history = np.random.rand(20)\n",
    "\n",
    "# model parameters\n",
    "model_order = (3,1,1)\n",
    "\n",
    "# define and fit model, model definition requires data\n",
    "model = ARIMA(history, order=model_order)\n",
    "res = model.fit()\n",
    "\n",
    "# prediction function\n",
    "def get_prediction_params(fitted_model, time_interval):\n",
    "    forecast = fitted_model.get_forecast(steps=time_interval)\n",
    "\n",
    "    keep_idx = time_interval - 1\n",
    "    mu = forecast.predicted_mean[keep_idx]\n",
    "    sigma = forecast.conf_int(alpha=(1-.68))[keep_idx,1] - mu\n",
    "    return({'mean': mu, 'sd': sigma})\n",
    "\n",
    "# test\n",
    "get_prediction_params(res, 10)\n"
   ]
  }
 ],
 "metadata": {
  "interpreter": {
   "hash": "c6e4e9f98eb68ad3b7c296f83d20e6de614cb42e90992a65aa266555a3137d0d"
  },
  "kernelspec": {
   "display_name": "Python 3.9.6 64-bit ('base': conda)",
   "language": "python",
   "name": "python3"
  },
  "language_info": {
   "codemirror_mode": {
    "name": "ipython",
    "version": 3
   },
   "file_extension": ".py",
   "mimetype": "text/x-python",
   "name": "python",
   "nbconvert_exporter": "python",
   "pygments_lexer": "ipython3",
   "version": "3.9.6"
  },
  "orig_nbformat": 4
 },
 "nbformat": 4,
 "nbformat_minor": 2
}
